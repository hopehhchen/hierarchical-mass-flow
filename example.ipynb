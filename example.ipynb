{
 "cells": [
  {
   "cell_type": "markdown",
   "metadata": {},
   "source": [
    "# About\n",
    "\n",
    "This notebook demonstrates how to use `HMFlow`."
   ]
  },
  {
   "cell_type": "code",
   "execution_count": 9,
   "metadata": {},
   "outputs": [],
   "source": [
    "from astropy.io import fits\n",
    "import astropy.units as u\n",
    "\n",
    "from HMFlow.HMFlow import *"
   ]
  },
  {
   "cell_type": "markdown",
   "metadata": {},
   "source": [
    "# Data"
   ]
  },
  {
   "cell_type": "code",
   "execution_count": 10,
   "metadata": {},
   "outputs": [],
   "source": [
    "# Numpy arrays\n",
    "density = fits.open('example_data/density.fits')[0].data\n",
    "vx = fits.open('example_data/vx.fits')[0].data\n",
    "vy = fits.open('example_data/vy.fits')[0].data\n",
    "vz = fits.open('example_data/vz.fits')[0].data"
   ]
  },
  {
   "cell_type": "markdown",
   "metadata": {},
   "source": [
    "# Load data\n",
    "\n",
    "This creates an HMFlow3D object."
   ]
  },
  {
   "cell_type": "code",
   "execution_count": 11,
   "metadata": {},
   "outputs": [],
   "source": [
    "# mandatory parameter\n",
    "pixscale = 5.*u.pc/512.\n",
    "# optional parameters\n",
    "unit_density = u.cm**-3.  ## default is 1/cm^3; can be mass density such as g/cm^3\n",
    "unit_velocity = u.km/u.s  ## default is km/s\n",
    "\n",
    "# Create an HMFlow3D object.\n",
    "HMFlow = HMFlow3D(density, vx, vy, vz, pixscale, unit_density = unit_density, unit_velocity = unit_velocity)"
   ]
  },
  {
   "cell_type": "markdown",
   "metadata": {},
   "source": [
    "# Calculate the dendrogram"
   ]
  },
  {
   "cell_type": "code",
   "execution_count": 13,
   "metadata": {},
   "outputs": [
    {
     "name": "stdout",
     "output_type": "stream",
     "text": [
      "Number of structures: 17\n",
      "Number of leaves: 16\n"
     ]
    }
   ],
   "source": [
    "# mandatory parameters\n",
    "min_value = 5e4 ## see astrodendro documentation\n",
    "min_npix = 150\n",
    "min_delta = 5e4\n",
    "# optional parameter\n",
    "periodic = True ## indicate whether the boxes are periodic; default is True\n",
    "\n",
    "HMFlow.dendrogram(min_value = min_value, min_npix = min_npix, min_delta = min_delta, periodic = periodic)"
   ]
  },
  {
   "cell_type": "markdown",
   "metadata": {},
   "source": [
    "# Calculate the flux and the mass flow; output in a csv file"
   ]
  },
  {
   "cell_type": "code",
   "execution_count": 14,
   "metadata": {},
   "outputs": [],
   "source": [
    "# optional parameter\n",
    "direc = 'output.csv' ## default is 'output.csv' in the local folder\n",
    "\n",
    "HMFlow.calculate(direc = direc)"
   ]
  },
  {
   "cell_type": "code",
   "execution_count": null,
   "metadata": {},
   "outputs": [],
   "source": []
  }
 ],
 "metadata": {
  "kernelspec": {
   "display_name": "Python [conda env:py3]",
   "language": "python",
   "name": "conda-env-py3-py"
  },
  "language_info": {
   "codemirror_mode": {
    "name": "ipython",
    "version": 3
   },
   "file_extension": ".py",
   "mimetype": "text/x-python",
   "name": "python",
   "nbconvert_exporter": "python",
   "pygments_lexer": "ipython3",
   "version": "3.6.7"
  }
 },
 "nbformat": 4,
 "nbformat_minor": 2
}
